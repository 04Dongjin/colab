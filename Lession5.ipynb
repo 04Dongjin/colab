{
  "nbformat": 4,
  "nbformat_minor": 0,
  "metadata": {
    "colab": {
      "provenance": [],
      "authorship_tag": "ABX9TyP40j6jjNSiQWH6Mb7t8HFz",
      "include_colab_link": true
    },
    "kernelspec": {
      "name": "python3",
      "display_name": "Python 3"
    },
    "language_info": {
      "name": "python"
    }
  },
  "cells": [
    {
      "cell_type": "markdown",
      "metadata": {
        "id": "view-in-github",
        "colab_type": "text"
      },
      "source": [
        "<a href=\"https://colab.research.google.com/github/04Dongjin/colab/blob/main/Lession5.ipynb\" target=\"_parent\"><img src=\"https://colab.research.google.com/assets/colab-badge.svg\" alt=\"Open In Colab\"/></a>"
      ]
    },
    {
      "cell_type": "code",
      "execution_count": 2,
      "metadata": {
        "colab": {
          "base_uri": "https://localhost:8080/"
        },
        "id": "bm1L7yQBzh7e",
        "outputId": "3d0119ff-2a2a-4118-b58b-1ecfe289038d"
      },
      "outputs": [
        {
          "output_type": "stream",
          "name": "stdout",
          "text": [
            "100보다 작습니다.\n"
          ]
        }
      ],
      "source": [
        "num = 99\n",
        "if num < 100 :\n",
        "    print(\"100보다 작습니다.\")"
      ]
    },
    {
      "cell_type": "code",
      "source": [
        "num = 200\n",
        "if num > 100 :\n",
        "    print(\"100보다 \")\n",
        "    print(\"큽니다.\")\n",
        "    print(\"프로그램 끝\")"
      ],
      "metadata": {
        "colab": {
          "base_uri": "https://localhost:8080/"
        },
        "id": "hdYbvRvc3iRb",
        "outputId": "1cd00067-d1c9-4762-9b9d-377f6afa3818"
      },
      "execution_count": 10,
      "outputs": [
        {
          "output_type": "stream",
          "name": "stdout",
          "text": [
            "100보다 \n",
            "큽니다.\n",
            "프로그램 끝\n"
          ]
        }
      ]
    },
    {
      "cell_type": "markdown",
      "source": [
        "if~else"
      ],
      "metadata": {
        "id": "WqLOghCU4smj"
      }
    },
    {
      "cell_type": "code",
      "source": [
        "num = 200\n",
        "if num < 100 :\n",
        "  print(\"100보다 작군요.\")\n",
        "else :\n",
        "  print(\"100보다 크군요\")"
      ],
      "metadata": {
        "colab": {
          "base_uri": "https://localhost:8080/"
        },
        "id": "FbqHHy6X4jVa",
        "outputId": "29e8c3e8-9955-4993-e5a7-785ad14e0aa7"
      },
      "execution_count": 11,
      "outputs": [
        {
          "output_type": "stream",
          "name": "stdout",
          "text": [
            "100보다 크군요\n"
          ]
        }
      ]
    },
    {
      "cell_type": "code",
      "source": [
        "num =int(input(\"정수를 입력 :\"))\n",
        "if (num % 2) == 0 :\n",
        "  print(num,\"짝수입니다.\")\n",
        "else :\n",
        "  print(num, \"홀수입니다\")"
      ],
      "metadata": {
        "colab": {
          "base_uri": "https://localhost:8080/"
        },
        "id": "I6w8DD185AAY",
        "outputId": "ffc20ba5-b070-4b3e-a975-4392bee58b64"
      },
      "execution_count": 15,
      "outputs": [
        {
          "output_type": "stream",
          "name": "stdout",
          "text": [
            "정수를 입력 :39\n",
            "39 홀수입니다\n"
          ]
        }
      ]
    },
    {
      "cell_type": "code",
      "source": [
        "num =int(input(\"정수를 입력 :\"))\n",
        "if num < 100 :\n",
        "  print(\"100보다 작다.\")\n",
        "  if 100<= num >=1000 :\n",
        "    print(\"100~1000사이\")\n",
        "  else :\n",
        "      print(\"1000보다크다\")"
      ],
      "metadata": {
        "colab": {
          "base_uri": "https://localhost:8080/"
        },
        "id": "0IzmR8Mo63jj",
        "outputId": "674b74ec-8d26-400c-a213-4dfbf3640598"
      },
      "execution_count": 19,
      "outputs": [
        {
          "output_type": "stream",
          "name": "stdout",
          "text": [
            "정수를 입력 :10\n",
            "100보다 작다.\n",
            "1000보다크다\n"
          ]
        }
      ]
    },
    {
      "cell_type": "code",
      "source": [
        "score = int(input(\"점수를 입력==>\"))\n",
        "\n",
        "if score >= 90 :\n",
        "  print(\"A\", end='')\n",
        "else :\n",
        "  if score >= 80 :\n",
        "    print(\"B\", end='')\n",
        "  else :\n",
        "      if score >= 70 :\n",
        "        print(\"c\", end='')\n",
        "      else :\n",
        "            if score >= 60 :\n",
        "                print(\"D\", end='')  \n",
        "            else :\n",
        "                      print(\"F\", end='')  "
      ],
      "metadata": {
        "colab": {
          "base_uri": "https://localhost:8080/"
        },
        "id": "z2W0u0HW_0ak",
        "outputId": "5255304e-c1d7-42f5-8f4c-45e3f83a68e8"
      },
      "execution_count": 22,
      "outputs": [
        {
          "output_type": "stream",
          "name": "stdout",
          "text": [
            "점수를 입력==>90\n",
            "A"
          ]
        }
      ]
    },
    {
      "cell_type": "code",
      "source": [
        "score = int(input(\"점수를 입력==>\"))\n",
        "if score >= 90 :\n",
        "  print(\"A\", end='')\n",
        "elif score >= 80 :\n",
        "    print(\"B\", end='')\n",
        "elif score >= 70 :\n",
        "    print(\"c\", end='')\n",
        "elif score >= 60 :\n",
        "    print(\"D\", end='')  \n",
        "else :\n",
        "    print(\"F\", end='')  "
      ],
      "metadata": {
        "colab": {
          "base_uri": "https://localhost:8080/"
        },
        "id": "gHdiMdJlC_4G",
        "outputId": "514dde4c-fe26-46d2-831b-b3abeb006f5d"
      },
      "execution_count": 23,
      "outputs": [
        {
          "output_type": "stream",
          "name": "stdout",
          "text": [
            "점수를 입력==>90\n",
            "A"
          ]
        }
      ]
    }
  ]
}