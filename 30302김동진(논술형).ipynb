{
  "nbformat": 4,
  "nbformat_minor": 0,
  "metadata": {
    "colab": {
      "name": "30302김동진(논술형).ipynb",
      "provenance": [],
      "authorship_tag": "ABX9TyOfX4Hhekzm1fTFieM4jP1+",
      "include_colab_link": true
    },
    "kernelspec": {
      "name": "python3",
      "display_name": "Python 3"
    },
    "language_info": {
      "name": "python"
    }
  },
  "cells": [
    {
      "cell_type": "markdown",
      "metadata": {
        "id": "view-in-github",
        "colab_type": "text"
      },
      "source": [
        "<a href=\"https://colab.research.google.com/github/04Dongjin/colab/blob/main/30302%EA%B9%80%EB%8F%99%EC%A7%84(%EB%85%BC%EC%88%A0%ED%98%95).ipynb\" target=\"_parent\"><img src=\"https://colab.research.google.com/assets/colab-badge.svg\" alt=\"Open In Colab\"/></a>"
      ]
    },
    {
      "cell_type": "markdown",
      "source": [],
      "metadata": {
        "id": "haLD3QKrEtiX"
      }
    },
    {
      "cell_type": "markdown",
      "source": [
        "컴퓨터과 3학년 3반 2번 김동진"
      ],
      "metadata": {
        "id": "0oNprmSaEwiY"
      }
    },
    {
      "cell_type": "code",
      "source": [
        "num1 = input(\"첫 번째 숫자 :\")\n",
        "num2 = input(\"두 번째 숫자 :\")\n",
        "result1 = int(num1) + int(num2)\n",
        "result2 = int(num1) - int(num2)\n",
        "result3 = int(num1) * int(num2)\n",
        "result4 = int(num1) / int(num2)\n",
        "result5 =int(num1) % int(num2)\n",
        "result6 =int(num1) ** int(num2)\n",
        "print(num1,\"+\",num2,\"=\",result1)\n",
        "print(num1,\"-\",num2,\"=\",result2)\n",
        "print(num1,\"*\",num2,\"=\",result3)\n",
        "print(num1,\"/\",num2,\"=\",result4)\n",
        "print(num1,\"%\",num2,\"=\",result5)\n",
        "print(num1,\"**\",num2,\"=\",result6)"
      ],
      "metadata": {
        "colab": {
          "base_uri": "https://localhost:8080/"
        },
        "id": "n5EMD9SgFo3f",
        "outputId": "833686b7-44cb-48ed-c0d6-ff3113a07fc5"
      },
      "execution_count": 4,
      "outputs": [
        {
          "output_type": "stream",
          "name": "stdout",
          "text": [
            "첫 번째 숫자 :10\n",
            "두 번째 숫자 :20\n",
            "10 + 20 = 30\n",
            "10 - 20 = -10\n",
            "10 * 20 = 200\n",
            "10 / 20 = 0.5\n",
            "10 % 20 = 10\n",
            "10 ** 20 = 100000000000000000000\n"
          ]
        }
      ]
    }
  ]
}