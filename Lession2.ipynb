{
  "nbformat": 4,
  "nbformat_minor": 0,
  "metadata": {
    "colab": {
      "name": "Lession2.ipynb",
      "provenance": [],
      "authorship_tag": "ABX9TyPfBbtEWNBIhUX7uVfbBioM",
      "include_colab_link": true
    },
    "kernelspec": {
      "name": "python3",
      "display_name": "Python 3"
    },
    "language_info": {
      "name": "python"
    }
  },
  "cells": [
    {
      "cell_type": "markdown",
      "metadata": {
        "id": "view-in-github",
        "colab_type": "text"
      },
      "source": [
        "<a href=\"https://colab.research.google.com/github/04Dongjin/colab/blob/main/Lession2.ipynb\" target=\"_parent\"><img src=\"https://colab.research.google.com/assets/colab-badge.svg\" alt=\"Open In Colab\"/></a>"
      ]
    },
    {
      "cell_type": "markdown",
      "source": [
        "파이썬2장"
      ],
      "metadata": {
        "id": "Aso-J4lOB2FL"
      }
    },
    {
      "cell_type": "code",
      "execution_count": 3,
      "metadata": {
        "colab": {
          "base_uri": "https://localhost:8080/"
        },
        "id": "GxPzv4vABRep",
        "outputId": "d37f4ec6-eb6d-47fd-deab-b87c591b86c4"
      },
      "outputs": [
        {
          "output_type": "stream",
          "name": "stdout",
          "text": [
            "100 + 200 = 300\n",
            "100 - 200 = -100\n",
            "100 * 200 = 20000\n",
            "100 / 200 = 0.5\n"
          ]
        }
      ],
      "source": [
        "a = 100\n",
        "b = 200\n",
        "result = a+b\n",
        "print(a,\"+\",b,\"=\",result)\n",
        "result1 = a-b\n",
        "print(a,\"-\",b,\"=\",result1)\n",
        "result2 = a*b\n",
        "print(a,\"*\",b,\"=\",result2)\n",
        "result3 = a/b\n",
        "print(a,\"/\",b,\"=\",result3)"
      ]
    },
    {
      "cell_type": "markdown",
      "source": [
        "input() 예제"
      ],
      "metadata": {
        "id": "acVsvNMTGY26"
      }
    },
    {
      "cell_type": "code",
      "source": [
        "num1 = input(\"첫번째 숫자 입력==>\")\n",
        "num2 = input(\"두번째 숫자 입력==>\")\n",
        "result =int(num1) + int(num2)\n",
        "print(num1,\"+\",num2,\"=\",result)"
      ],
      "metadata": {
        "colab": {
          "base_uri": "https://localhost:8080/"
        },
        "id": "R1EyRrU3FiiI",
        "outputId": "89d91f5b-d196-427d-e716-8a7612d1cad7"
      },
      "execution_count": 7,
      "outputs": [
        {
          "output_type": "stream",
          "name": "stdout",
          "text": [
            "첫번째 숫자 입력==>200\n",
            "두번째 숫자 입력==>100\n",
            "200 + 100 = 300\n"
          ]
        }
      ]
    },
    {
      "cell_type": "markdown",
      "source": [
        "-input()를 이용한 간단한 계산기 만들기"
      ],
      "metadata": {
        "id": "Zxc-LROeJEA6"
      }
    },
    {
      "cell_type": "code",
      "source": [
        "num1 = input(\"첫번째 숫자 입력==>\")\n",
        "num2 = input(\"두번째 숫자 입력==>\")\n",
        "result1 =int(num1) + int(num2), int(num1) - int(num2)\n",
        "result2 =int(num1) * int(num2), int(num1) / int(num2)\n",
        "print(num1,\"+\",num2,\"=\",result1)\n",
        "print(num1,\"-\",num2,\"=\",result1)\n",
        "print(num1,\"*\",num2,\"=\",result2)\n",
        "print(num1,\"/\",num2,\"=\",result2) "
      ],
      "metadata": {
        "colab": {
          "base_uri": "https://localhost:8080/"
        },
        "id": "97yb08XiHz7Y",
        "outputId": "fe898c27-a43b-47f7-d65a-51e17cb3075a"
      },
      "execution_count": 9,
      "outputs": [
        {
          "output_type": "stream",
          "name": "stdout",
          "text": [
            "첫번째 숫자 입력==>100\n",
            "두번째 숫자 입력==>200\n",
            "100 + 200 = (300, -100)\n",
            "100 - 200 = (300, -100)\n",
            "100 * 200 = (20000, 0.5)\n",
            "100 / 200 = (20000, 0.5)\n"
          ]
        }
      ]
    },
    {
      "cell_type": "code",
      "source": [
        "num1 = input(\"이름==>\")\n",
        "num2 = input(\"전화번호==>\")\n",
        "print(\"제 이름은\" ,num1,\"이고\", \"전화번호는\", num2,\"입니다\")"
      ],
      "metadata": {
        "colab": {
          "base_uri": "https://localhost:8080/"
        },
        "id": "2nmPIAjuOnqO",
        "outputId": "d26b4cda-4263-4460-8bdf-24c5ab900e88"
      },
      "execution_count": 12,
      "outputs": [
        {
          "output_type": "stream",
          "name": "stdout",
          "text": [
            "이름==>ㄱㄱㄱ\n",
            "전화번호==>111111111111\n",
            "제 이름은 ㄱㄱㄱ 이고 전화번호는 111111111111 입니다\n"
          ]
        }
      ]
    },
    {
      "cell_type": "code",
      "source": [
        "print(\"##택배를 보내기 위한 정보를 입력하세요##\")\n",
        "num1 = input(\"받는 사람==>\")\n",
        "num2 = input(\"주소==>\")\n",
        "num3 = input(\"무게(g)==>\")\n",
        "result = int(num3)*5\n",
        "print(\"**받는사람==>\",num1)\n",
        "print(\"**주소==>\",num2)\n",
        "print(\"**배송비\",result,\"원\")"
      ],
      "metadata": {
        "colab": {
          "base_uri": "https://localhost:8080/"
        },
        "id": "RpG9bgucPv37",
        "outputId": "a2dfc749-3d46-4788-85c1-5a31263dfe83"
      },
      "execution_count": 23,
      "outputs": [
        {
          "output_type": "stream",
          "name": "stdout",
          "text": [
            "##택배를 보내기 위한 정보를 입력하세요##\n",
            "받는 사람==>100\n",
            "주소==>100\n",
            "무게(g)==>100\n",
            "**받는사람==> 100\n",
            "**주소==> 100\n",
            "**배송비 500 원\n"
          ]
        }
      ]
    },
    {
      "cell_type": "code",
      "source": [
        "num1 = input(\"숫자1==>\")\n",
        "num2 = input(\"숫자2==>\")\n",
        "result1 =int(num1) + int(num2), int(num1) - int(num2)\n",
        "result2 =int(num1) * int(num2), int(num1) / int(num2)\n",
        "result3 =int(num1) % int(num2), int(num1) ** int(num2)\n",
        "print(num1,\"+\",num2,\"=\",result1)\n",
        "print(num1,\"-\",num2,\"=\",result1)\n",
        "print(num1,\"*\",num2,\"=\",result2)\n",
        "print(num1,\"/\",num2,\"=\",result2)\n",
        "print(num1,\"%\",num2,\"=\",result3)\n",
        "print(num1,\"**\",num2,\"=\",result3)"
      ],
      "metadata": {
        "colab": {
          "base_uri": "https://localhost:8080/"
        },
        "id": "iNlNkXmpTYYA",
        "outputId": "943cd664-a97b-4001-de5b-6f5663406991"
      },
      "execution_count": 25,
      "outputs": [
        {
          "output_type": "stream",
          "name": "stdout",
          "text": [
            "숫자1==>100\n",
            "숫자2==>10\n",
            "100 + 10 = (110, 90)\n",
            "100 - 10 = (110, 90)\n",
            "100 * 10 = (1000, 10.0)\n",
            "100 / 10 = (1000, 10.0)\n",
            "100 % 10 = (0, 100000000000000000000)\n",
            "100 ** 10 = (0, 100000000000000000000)\n"
          ]
        }
      ]
    }
  ]
}