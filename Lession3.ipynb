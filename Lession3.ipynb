{
  "nbformat": 4,
  "nbformat_minor": 0,
  "metadata": {
    "colab": {
      "name": "Lession3.ipynb",
      "provenance": [],
      "authorship_tag": "ABX9TyO1xquzIOGwrmYD0GhZx7Hl",
      "include_colab_link": true
    },
    "kernelspec": {
      "name": "python3",
      "display_name": "Python 3"
    },
    "language_info": {
      "name": "python"
    }
  },
  "cells": [
    {
      "cell_type": "markdown",
      "metadata": {
        "id": "view-in-github",
        "colab_type": "text"
      },
      "source": [
        "<a href=\"https://colab.research.google.com/github/04Dongjin/colab/blob/main/Lession3.ipynb\" target=\"_parent\"><img src=\"https://colab.research.google.com/assets/colab-badge.svg\" alt=\"Open In Colab\"/></a>"
      ]
    },
    {
      "cell_type": "markdown",
      "source": [
        "형성평가 파운드를 킬로그램으로 변경"
      ],
      "metadata": {
        "id": "IlT_G64H1bIH"
      }
    },
    {
      "cell_type": "code",
      "execution_count": 5,
      "metadata": {
        "colab": {
          "base_uri": "https://localhost:8080/"
        },
        "id": "bch70yjHxL_G",
        "outputId": "e260abcd-b0a0-434c-d7a6-62233af600b8"
      },
      "outputs": [
        {
          "output_type": "stream",
          "name": "stdout",
          "text": [
            "파운드를(lb)입력하세요:15\n",
            "15 lb는 6.8038799999999995 kg입니다\n",
            "킬로그램을(kg) 입력하세요:15\n",
            "15 kg는 33.069345000000006 lb입니다\n"
          ]
        }
      ],
      "source": [
        "num1 = input(\"파운드를(lb)입력하세요:\")\n",
        "result1 =int(num1) * 0.453592\n",
        "print(num1,\"lb는\",result1,\"kg입니다\")\n",
        "num2 = input(\"킬로그램을(kg) 입력하세요:\")\n",
        "result2 =int(num2) * 2.204623\n",
        "print(num2,\"kg는\",result2,\"lb입니다\")\n"
      ]
    }
  ]
}